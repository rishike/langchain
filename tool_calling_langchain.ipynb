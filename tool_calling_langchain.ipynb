{
  "nbformat": 4,
  "nbformat_minor": 0,
  "metadata": {
    "colab": {
      "provenance": [],
      "authorship_tag": "ABX9TyMztnpdj6HvWY1ZvW7AUpVI",
      "include_colab_link": true
    },
    "kernelspec": {
      "name": "python3",
      "display_name": "Python 3"
    },
    "language_info": {
      "name": "python"
    }
  },
  "cells": [
    {
      "cell_type": "markdown",
      "metadata": {
        "id": "view-in-github",
        "colab_type": "text"
      },
      "source": [
        "<a href=\"https://colab.research.google.com/github/rishike/langchain/blob/master/tool_calling_langchain.ipynb\" target=\"_parent\"><img src=\"https://colab.research.google.com/assets/colab-badge.svg\" alt=\"Open In Colab\"/></a>"
      ]
    },
    {
      "cell_type": "code",
      "execution_count": 1,
      "metadata": {
        "colab": {
          "base_uri": "https://localhost:8080/"
        },
        "id": "t5iOnOdGX_rm",
        "outputId": "9e727d9c-fca0-410e-c098-d20085744b32"
      },
      "outputs": [
        {
          "name": "stdout",
          "output_type": "stream",
          "text": [
            "Provide your Google API key here··········\n"
          ]
        }
      ],
      "source": [
        "import os\n",
        "from getpass import getpass\n",
        "os.environ[\"GOOGLE_API_KEY\"] =  getpass(\"Provide your Google API key here\")"
      ]
    },
    {
      "cell_type": "code",
      "source": [
        "!pip install -q google-ai-generativelanguage langchain-google-genai langchain-core requests"
      ],
      "metadata": {
        "id": "fL-2tA1JY5pC",
        "colab": {
          "base_uri": "https://localhost:8080/"
        },
        "outputId": "db17b69f-a5df-442f-fcd4-b2cedf4ab047"
      },
      "execution_count": 2,
      "outputs": [
        {
          "output_type": "stream",
          "name": "stdout",
          "text": [
            "\u001b[?25l   \u001b[90m━━━━━━━━━━━━━━━━━━━━━━━━━━━━━━━━━━━━━━━━\u001b[0m \u001b[32m0.0/44.3 kB\u001b[0m \u001b[31m?\u001b[0m eta \u001b[36m-:--:--\u001b[0m\r\u001b[2K   \u001b[90m━━━━━━━━━━━━━━━━━━━━━━━━━━━━━━━━━━━━━━━━\u001b[0m \u001b[32m44.3/44.3 kB\u001b[0m \u001b[31m2.7 MB/s\u001b[0m eta \u001b[36m0:00:00\u001b[0m\n",
            "\u001b[?25h\u001b[?25l   \u001b[90m━━━━━━━━━━━━━━━━━━━━━━━━━━━━━━━━━━━━━━━━\u001b[0m \u001b[32m0.0/1.4 MB\u001b[0m \u001b[31m?\u001b[0m eta \u001b[36m-:--:--\u001b[0m\r\u001b[2K   \u001b[91m━━━━━━━━━━━━━━━━━━━━━━━━━━━━━━━━━━━━━━━\u001b[0m\u001b[91m╸\u001b[0m \u001b[32m1.4/1.4 MB\u001b[0m \u001b[31m55.2 MB/s\u001b[0m eta \u001b[36m0:00:01\u001b[0m\r\u001b[2K   \u001b[90m━━━━━━━━━━━━━━━━━━━━━━━━━━━━━━━━━━━━━━━━\u001b[0m \u001b[32m1.4/1.4 MB\u001b[0m \u001b[31m31.9 MB/s\u001b[0m eta \u001b[36m0:00:00\u001b[0m\n",
            "\u001b[?25h\u001b[31mERROR: pip's dependency resolver does not currently take into account all the packages that are installed. This behaviour is the source of the following dependency conflicts.\n",
            "google-generativeai 0.8.5 requires google-ai-generativelanguage==0.6.15, but you have google-ai-generativelanguage 0.6.18 which is incompatible.\u001b[0m\u001b[31m\n",
            "\u001b[0m"
          ]
        }
      ]
    },
    {
      "cell_type": "code",
      "source": [
        "from langchain_google_genai import ChatGoogleGenerativeAI\n",
        "from langchain_core.tools import tool\n",
        "from langchain_core.messages import HumanMessage\n",
        "import requests"
      ],
      "metadata": {
        "id": "BZYj3qrIYcQB"
      },
      "execution_count": 3,
      "outputs": []
    },
    {
      "cell_type": "code",
      "source": [
        "@tool\n",
        "def multiply(a: int, b: int) -> int:\n",
        "  \"\"\" Given 2 number a and b return thier product\"\"\"\n",
        "  return a * b"
      ],
      "metadata": {
        "id": "oUIzKdRVY103"
      },
      "execution_count": 4,
      "outputs": []
    },
    {
      "cell_type": "code",
      "source": [
        "print(multiply.invoke({'a': 3, 'b': 4}))"
      ],
      "metadata": {
        "colab": {
          "base_uri": "https://localhost:8080/"
        },
        "id": "oNSDE74Z-LWM",
        "outputId": "5d8eb24d-c946-4f41-912c-7b83425e2426"
      },
      "execution_count": 5,
      "outputs": [
        {
          "output_type": "stream",
          "name": "stdout",
          "text": [
            "12\n"
          ]
        }
      ]
    },
    {
      "cell_type": "code",
      "source": [
        "multiply.name\n"
      ],
      "metadata": {
        "colab": {
          "base_uri": "https://localhost:8080/",
          "height": 35
        },
        "id": "uJoydjVh-So5",
        "outputId": "ff5b7363-8840-4566-f1a5-0b2a012dc3e7"
      },
      "execution_count": 6,
      "outputs": [
        {
          "output_type": "execute_result",
          "data": {
            "text/plain": [
              "'multiply'"
            ],
            "application/vnd.google.colaboratory.intrinsic+json": {
              "type": "string"
            }
          },
          "metadata": {},
          "execution_count": 6
        }
      ]
    },
    {
      "cell_type": "code",
      "source": [
        "# tool binding"
      ],
      "metadata": {
        "id": "cwQdP4al-V0i"
      },
      "execution_count": 7,
      "outputs": []
    },
    {
      "cell_type": "code",
      "source": [
        "llm = ChatGoogleGenerativeAI(model=\"gemini-1.5-flash\", temperature=0)"
      ],
      "metadata": {
        "id": "rrZGyAmc-aeM"
      },
      "execution_count": 16,
      "outputs": []
    },
    {
      "cell_type": "code",
      "source": [
        "llm_with_tools = llm.bind_tools([multiply])"
      ],
      "metadata": {
        "id": "oSeCWjMI-ekB"
      },
      "execution_count": 17,
      "outputs": []
    },
    {
      "cell_type": "code",
      "source": [
        "query = HumanMessage('can you multiply 3 with 10')\n",
        "messages = [query]"
      ],
      "metadata": {
        "id": "dTKI1ETS3b42"
      },
      "execution_count": 18,
      "outputs": []
    },
    {
      "cell_type": "code",
      "source": [
        "messages"
      ],
      "metadata": {
        "colab": {
          "base_uri": "https://localhost:8080/"
        },
        "id": "dWDi5xnU3kkn",
        "outputId": "e155e2e9-28c9-4e9d-f7aa-4f273328a2ac"
      },
      "execution_count": 19,
      "outputs": [
        {
          "output_type": "execute_result",
          "data": {
            "text/plain": [
              "[HumanMessage(content='can you multiply 3 with 10', additional_kwargs={}, response_metadata={})]"
            ]
          },
          "metadata": {},
          "execution_count": 19
        }
      ]
    },
    {
      "cell_type": "code",
      "source": [
        "llm_with_tools"
      ],
      "metadata": {
        "id": "Z_Qq-GTo-nPp",
        "colab": {
          "base_uri": "https://localhost:8080/"
        },
        "outputId": "938f1386-78e4-49ff-e580-18aa1d8b0b02"
      },
      "execution_count": 20,
      "outputs": [
        {
          "output_type": "execute_result",
          "data": {
            "text/plain": [
              "RunnableBinding(bound=ChatGoogleGenerativeAI(model='models/gemini-1.5-flash', google_api_key=SecretStr('**********'), temperature=0.0, client=<google.ai.generativelanguage_v1beta.services.generative_service.client.GenerativeServiceClient object at 0x781f21f57390>, default_metadata=(), model_kwargs={}), kwargs={'tools': [{'type': 'function', 'function': {'name': 'multiply', 'description': 'Given 2 number a and b return thier product', 'parameters': {'properties': {'a': {'type': 'integer'}, 'b': {'type': 'integer'}}, 'required': ['a', 'b'], 'type': 'object'}}}]}, config={}, config_factories=[])"
            ]
          },
          "metadata": {},
          "execution_count": 20
        }
      ]
    },
    {
      "cell_type": "code",
      "source": [
        "llm_with_tools.invoke('Hi how are you')"
      ],
      "metadata": {
        "id": "u1eKGQfYx92n",
        "colab": {
          "base_uri": "https://localhost:8080/"
        },
        "outputId": "f42eb896-efc1-4847-e52b-b6a117d8d983"
      },
      "execution_count": 21,
      "outputs": [
        {
          "output_type": "execute_result",
          "data": {
            "text/plain": [
              "AIMessage(content=\"I'm doing well, thank you for asking! How are you today?\", additional_kwargs={}, response_metadata={'prompt_feedback': {'block_reason': 0, 'safety_ratings': []}, 'finish_reason': 'STOP', 'model_name': 'gemini-1.5-flash', 'safety_ratings': []}, id='run--4a5b4f29-9442-4e0b-a58b-45aae37a0ec0-0', usage_metadata={'input_tokens': 22, 'output_tokens': 17, 'total_tokens': 39, 'input_token_details': {'cache_read': 0}})"
            ]
          },
          "metadata": {},
          "execution_count": 21
        }
      ]
    },
    {
      "cell_type": "code",
      "source": [
        "result = llm_with_tools.invoke('can you multiply 3 with 10')"
      ],
      "metadata": {
        "id": "WsRDVwmMz5Ry"
      },
      "execution_count": 22,
      "outputs": []
    },
    {
      "cell_type": "code",
      "source": [
        "llm_with_tools.invoke('can you multiply 3 with 10').tool_calls[0]"
      ],
      "metadata": {
        "id": "pnGCFh8s0W3p",
        "colab": {
          "base_uri": "https://localhost:8080/"
        },
        "outputId": "6a396ab1-e248-41ff-b9c5-df25a1beace2"
      },
      "execution_count": 23,
      "outputs": [
        {
          "output_type": "execute_result",
          "data": {
            "text/plain": [
              "{'name': 'multiply',\n",
              " 'args': {'a': 3.0, 'b': 10.0},\n",
              " 'id': '14a15917-3095-4579-84cc-7d41c18e70f1',\n",
              " 'type': 'tool_call'}"
            ]
          },
          "metadata": {},
          "execution_count": 23
        }
      ]
    },
    {
      "cell_type": "markdown",
      "source": [
        "Tool execution"
      ],
      "metadata": {
        "id": "LdYjj1fx2ckP"
      }
    },
    {
      "cell_type": "code",
      "source": [
        "result.tool_calls[0]['args']"
      ],
      "metadata": {
        "id": "ralkl6sV2eex",
        "colab": {
          "base_uri": "https://localhost:8080/"
        },
        "outputId": "302fdc2b-110c-4c58-85a3-cca1577e751d"
      },
      "execution_count": 24,
      "outputs": [
        {
          "output_type": "execute_result",
          "data": {
            "text/plain": [
              "{'a': 3.0, 'b': 10.0}"
            ]
          },
          "metadata": {},
          "execution_count": 24
        }
      ]
    },
    {
      "cell_type": "code",
      "source": [
        "multiply.invoke(result.tool_calls[0]['args'])"
      ],
      "metadata": {
        "id": "eE9QIzt_2zSg",
        "colab": {
          "base_uri": "https://localhost:8080/"
        },
        "outputId": "8ddb5d02-b3fb-4009-a684-55b09372ed21"
      },
      "execution_count": 25,
      "outputs": [
        {
          "output_type": "execute_result",
          "data": {
            "text/plain": [
              "30"
            ]
          },
          "metadata": {},
          "execution_count": 25
        }
      ]
    },
    {
      "cell_type": "code",
      "source": [
        "multiply.invoke(result.tool_calls[0]['args'])"
      ],
      "metadata": {
        "id": "DmgMBFVb25kq",
        "colab": {
          "base_uri": "https://localhost:8080/"
        },
        "outputId": "b48b0691-df96-4350-a4c4-07de06be0d7d"
      },
      "execution_count": 26,
      "outputs": [
        {
          "output_type": "execute_result",
          "data": {
            "text/plain": [
              "30"
            ]
          },
          "metadata": {},
          "execution_count": 26
        }
      ]
    },
    {
      "cell_type": "code",
      "source": [
        "multiply.invoke(result.tool_calls[0])"
      ],
      "metadata": {
        "id": "e4s3O_5y3BC3",
        "colab": {
          "base_uri": "https://localhost:8080/"
        },
        "outputId": "19db42f3-0e3c-46a8-dcad-2c2783e80126"
      },
      "execution_count": 27,
      "outputs": [
        {
          "output_type": "execute_result",
          "data": {
            "text/plain": [
              "ToolMessage(content='30', name='multiply', tool_call_id='6c32acf7-0ddd-4e0d-b01c-0373012b2c07')"
            ]
          },
          "metadata": {},
          "execution_count": 27
        }
      ]
    },
    {
      "cell_type": "code",
      "source": [
        "messages.append(result)"
      ],
      "metadata": {
        "id": "TXwoSYIK3YBP"
      },
      "execution_count": 28,
      "outputs": []
    },
    {
      "cell_type": "code",
      "source": [
        "tool_result = multiply.invoke(result.tool_calls[0])"
      ],
      "metadata": {
        "id": "olok5Mob4Iev"
      },
      "execution_count": 29,
      "outputs": []
    },
    {
      "cell_type": "code",
      "source": [
        "messages.append(tool_result)"
      ],
      "metadata": {
        "id": "Y4r7f6kK4OBO"
      },
      "execution_count": 30,
      "outputs": []
    },
    {
      "cell_type": "code",
      "source": [
        "messages"
      ],
      "metadata": {
        "id": "hXa_gT1-4Sim",
        "colab": {
          "base_uri": "https://localhost:8080/"
        },
        "outputId": "f2cef10f-35ae-410d-f83b-bc136f0623e9"
      },
      "execution_count": 31,
      "outputs": [
        {
          "output_type": "execute_result",
          "data": {
            "text/plain": [
              "[HumanMessage(content='can you multiply 3 with 10', additional_kwargs={}, response_metadata={}),\n",
              " AIMessage(content='', additional_kwargs={'function_call': {'name': 'multiply', 'arguments': '{\"a\": 3.0, \"b\": 10.0}'}}, response_metadata={'prompt_feedback': {'block_reason': 0, 'safety_ratings': []}, 'finish_reason': 'STOP', 'model_name': 'gemini-1.5-flash', 'safety_ratings': []}, id='run--80bce7fb-4186-4763-b1f8-934617e5dd34-0', tool_calls=[{'name': 'multiply', 'args': {'a': 3.0, 'b': 10.0}, 'id': '6c32acf7-0ddd-4e0d-b01c-0373012b2c07', 'type': 'tool_call'}], usage_metadata={'input_tokens': 27, 'output_tokens': 5, 'total_tokens': 32, 'input_token_details': {'cache_read': 0}}),\n",
              " ToolMessage(content='30', name='multiply', tool_call_id='6c32acf7-0ddd-4e0d-b01c-0373012b2c07')]"
            ]
          },
          "metadata": {},
          "execution_count": 31
        }
      ]
    },
    {
      "cell_type": "code",
      "source": [
        "llm_with_tools.invoke(messages).content"
      ],
      "metadata": {
        "id": "Ol1SfDb84ZnV",
        "colab": {
          "base_uri": "https://localhost:8080/",
          "height": 35
        },
        "outputId": "88361cf3-3b6f-4f1c-93e9-169b0165f359"
      },
      "execution_count": 32,
      "outputs": [
        {
          "output_type": "execute_result",
          "data": {
            "text/plain": [
              "'The product of 3 and 10 is 30.'"
            ],
            "application/vnd.google.colaboratory.intrinsic+json": {
              "type": "string"
            }
          },
          "metadata": {},
          "execution_count": 32
        }
      ]
    },
    {
      "cell_type": "markdown",
      "source": [
        "**currency conversion tool**"
      ],
      "metadata": {
        "id": "CNEFvB8494pd"
      }
    },
    {
      "cell_type": "code",
      "source": [
        "from langchain_core.tools import InjectedToolArg\n",
        "from typing import Annotated"
      ],
      "metadata": {
        "id": "AGnuUqkvGAd2"
      },
      "execution_count": 33,
      "outputs": []
    },
    {
      "cell_type": "code",
      "source": [
        "# tool create\n",
        "\n",
        "@tool\n",
        "def get_conversation_tool(base_currency: str, target_currency:str) -> float:\n",
        "  \"\"\" This function fetches the currency conversion factor between a given base currency and a target currency\"\"\"\n",
        "  url = f\"https://v6.exchangerate-api.com/v6/9554b7e135b4da24b2305433/pair/{base_currency}/{target_currency}\"\n",
        "  response = requests.get(url)\n",
        "  return response.json()\n",
        "\n",
        "\n",
        "@tool\n",
        "def convert(base_currency_value: int, conversion_rate: Annotated[float, InjectedToolArg]) -> float:\n",
        "  \"\"\" This function converts the base currency value to the target currency value using the conversion rate\"\"\"\n",
        "  return base_currency_value * conversion_rate"
      ],
      "metadata": {
        "id": "mMnnzudS_-XT"
      },
      "execution_count": 34,
      "outputs": []
    },
    {
      "cell_type": "code",
      "source": [
        "get_conversation_tool.invoke({'base_currency': 'USD', 'target_currency': 'INR'})"
      ],
      "metadata": {
        "colab": {
          "base_uri": "https://localhost:8080/"
        },
        "id": "Qo2LOPjDAm6C",
        "outputId": "d15ea913-3cf6-45a9-ce25-4c987e26a720"
      },
      "execution_count": 35,
      "outputs": [
        {
          "output_type": "execute_result",
          "data": {
            "text/plain": [
              "{'result': 'success',\n",
              " 'documentation': 'https://www.exchangerate-api.com/docs',\n",
              " 'terms_of_use': 'https://www.exchangerate-api.com/terms',\n",
              " 'time_last_update_unix': 1747612801,\n",
              " 'time_last_update_utc': 'Mon, 19 May 2025 00:00:01 +0000',\n",
              " 'time_next_update_unix': 1747699201,\n",
              " 'time_next_update_utc': 'Tue, 20 May 2025 00:00:01 +0000',\n",
              " 'base_code': 'USD',\n",
              " 'target_code': 'INR',\n",
              " 'conversion_rate': 85.638}"
            ]
          },
          "metadata": {},
          "execution_count": 35
        }
      ]
    },
    {
      "cell_type": "code",
      "source": [
        "convert.invoke({'base_currency_value': 10, 'conversion_rate': 85.6035})"
      ],
      "metadata": {
        "colab": {
          "base_uri": "https://localhost:8080/"
        },
        "id": "pFHYHmkRAvDs",
        "outputId": "777c3812-d0e0-47bd-b982-1b3d2c98acc8"
      },
      "execution_count": 36,
      "outputs": [
        {
          "output_type": "execute_result",
          "data": {
            "text/plain": [
              "856.035"
            ]
          },
          "metadata": {},
          "execution_count": 36
        }
      ]
    },
    {
      "cell_type": "code",
      "source": [
        "# tool binding\n",
        "conversion_llm = ChatGoogleGenerativeAI(model=\"gemini-2.0-flash\", temperature=0)"
      ],
      "metadata": {
        "id": "gUsFCtkwBba6"
      },
      "execution_count": 54,
      "outputs": []
    },
    {
      "cell_type": "code",
      "source": [
        "conversion_llm_with_tools = llm.bind_tools([get_conversation_tool, convert])"
      ],
      "metadata": {
        "id": "2YEvA4JYBqzU"
      },
      "execution_count": 55,
      "outputs": []
    },
    {
      "cell_type": "code",
      "source": [
        "messages = [HumanMessage('What is the conversion factor between USD and INR, and based on that can you convert 10 usd to inr')]"
      ],
      "metadata": {
        "id": "41nJfoVgB7cQ"
      },
      "execution_count": 56,
      "outputs": []
    },
    {
      "cell_type": "code",
      "source": [
        "messages"
      ],
      "metadata": {
        "colab": {
          "base_uri": "https://localhost:8080/"
        },
        "id": "0s5DlzAZD2bL",
        "outputId": "00988953-789a-4690-e835-cbda41c25ec2"
      },
      "execution_count": 57,
      "outputs": [
        {
          "output_type": "execute_result",
          "data": {
            "text/plain": [
              "[HumanMessage(content='What is the conversion factor between USD and INR, and based on that can you convert 10 usd to inr', additional_kwargs={}, response_metadata={})]"
            ]
          },
          "metadata": {},
          "execution_count": 57
        }
      ]
    },
    {
      "cell_type": "code",
      "source": [
        "ai_message = conversion_llm_with_tools.invoke(messages)"
      ],
      "metadata": {
        "id": "c1BL_EXWD70f"
      },
      "execution_count": 58,
      "outputs": []
    },
    {
      "cell_type": "code",
      "source": [
        "ai_message"
      ],
      "metadata": {
        "id": "y1sSguncEEPi",
        "colab": {
          "base_uri": "https://localhost:8080/"
        },
        "outputId": "aed7e532-3489-4f90-bf76-b7be68d0e316"
      },
      "execution_count": 59,
      "outputs": [
        {
          "output_type": "execute_result",
          "data": {
            "text/plain": [
              "AIMessage(content=\"I need to define the base and target currencies first.  I'll assume the `get_conversation_tool` function will provide the conversion factor.  However, I cannot execute the function without knowing its implementation details.  Please provide the implementation of `get_conversation_tool` and `convert` functions.\", additional_kwargs={}, response_metadata={'prompt_feedback': {'block_reason': 0, 'safety_ratings': []}, 'finish_reason': 'STOP', 'model_name': 'gemini-1.5-flash', 'safety_ratings': []}, id='run--6e890bb8-ab67-4310-b98a-a09fa92e0b91-0', usage_metadata={'input_tokens': 90, 'output_tokens': 65, 'total_tokens': 155, 'input_token_details': {'cache_read': 0}})"
            ]
          },
          "metadata": {},
          "execution_count": 59
        }
      ]
    },
    {
      "cell_type": "code",
      "source": [
        "messages.append(ai_message)"
      ],
      "metadata": {
        "id": "qt81HYUQJJCK"
      },
      "execution_count": 60,
      "outputs": []
    },
    {
      "cell_type": "code",
      "source": [
        "import json"
      ],
      "metadata": {
        "id": "J1nBDRd3ICBI"
      },
      "execution_count": 61,
      "outputs": []
    },
    {
      "cell_type": "code",
      "source": [
        "for tool_call in ai_message.tool_calls:\n",
        "  if tool_call['name'] == 'get_convestion_factor':\n",
        "    tool_message1 = get_conversation_tool.invoke(tool_call)\n",
        "    conversion_rate = json.loads(tool_message1.content)['conversion_rate']\n",
        "    messages.append(tool_message1)\n",
        "\n",
        "  if tool_call['name'] == 'convert':\n",
        "    tool_call['args']['conversion_rate'] = conversion_rate\n",
        "    tool_message2 = convert.invoke(tool_call)\n",
        "    print(tool_message2)\n",
        "    messages.append(tool_message2)\n"
      ],
      "metadata": {
        "id": "2gkLonsFF9MO"
      },
      "execution_count": 62,
      "outputs": []
    },
    {
      "cell_type": "code",
      "source": [
        "result = conversion_llm_with_tools.invoke(messages)"
      ],
      "metadata": {
        "id": "JYwtSuuBJZ5C"
      },
      "execution_count": 63,
      "outputs": []
    },
    {
      "cell_type": "code",
      "source": [
        "result"
      ],
      "metadata": {
        "colab": {
          "base_uri": "https://localhost:8080/"
        },
        "id": "4GDRJBQvsU5k",
        "outputId": "91e77235-803c-4e0c-f830-ae55b73d28ef"
      },
      "execution_count": 64,
      "outputs": [
        {
          "output_type": "execute_result",
          "data": {
            "text/plain": [
              "AIMessage(content='Once you provide the implementation, I can proceed with the conversion.', additional_kwargs={}, response_metadata={'prompt_feedback': {'block_reason': 0, 'safety_ratings': []}, 'finish_reason': 'STOP', 'model_name': 'gemini-1.5-flash', 'safety_ratings': []}, id='run--a4deeaab-bd88-40d1-b761-c0a516270e6f-0', usage_metadata={'input_tokens': 154, 'output_tokens': 14, 'total_tokens': 168, 'input_token_details': {'cache_read': 0}})"
            ]
          },
          "metadata": {},
          "execution_count": 64
        }
      ]
    },
    {
      "cell_type": "code",
      "source": [],
      "metadata": {
        "id": "X1_bjN_Qscra"
      },
      "execution_count": null,
      "outputs": []
    }
  ]
}