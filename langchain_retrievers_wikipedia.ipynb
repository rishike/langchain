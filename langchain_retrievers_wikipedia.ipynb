{
  "nbformat": 4,
  "nbformat_minor": 0,
  "metadata": {
    "colab": {
      "provenance": [],
      "authorship_tag": "ABX9TyMgjfa8RdysZK4vmTCLYAL+",
      "include_colab_link": true
    },
    "kernelspec": {
      "name": "python3",
      "display_name": "Python 3"
    },
    "language_info": {
      "name": "python"
    }
  },
  "cells": [
    {
      "cell_type": "markdown",
      "metadata": {
        "id": "view-in-github",
        "colab_type": "text"
      },
      "source": [
        "<a href=\"https://colab.research.google.com/github/rishike/langchain/blob/master/langchain_retrievers_wikipedia.ipynb\" target=\"_parent\"><img src=\"https://colab.research.google.com/assets/colab-badge.svg\" alt=\"Open In Colab\"/></a>"
      ]
    },
    {
      "cell_type": "code",
      "execution_count": 15,
      "metadata": {
        "colab": {
          "base_uri": "https://localhost:8080/"
        },
        "id": "V-Frm42gTkxP",
        "outputId": "5a26d6c4-07cb-442a-bf5b-249f5940468d"
      },
      "outputs": [
        {
          "output_type": "stream",
          "name": "stdout",
          "text": [
            "Requirement already satisfied: langchain in /usr/local/lib/python3.11/dist-packages (0.3.24)\n",
            "Requirement already satisfied: chromadb in /usr/local/lib/python3.11/dist-packages (1.0.8)\n",
            "Requirement already satisfied: faiss-cpu in /usr/local/lib/python3.11/dist-packages (1.11.0)\n",
            "Requirement already satisfied: google-genai in /usr/local/lib/python3.11/dist-packages (1.13.0)\n",
            "Requirement already satisfied: tiktoken in /usr/local/lib/python3.11/dist-packages (0.9.0)\n",
            "Requirement already satisfied: langchain-google-genai in /usr/local/lib/python3.11/dist-packages (2.1.4)\n",
            "Requirement already satisfied: langchain-community in /usr/local/lib/python3.11/dist-packages (0.3.23)\n",
            "Requirement already satisfied: wikipedia in /usr/local/lib/python3.11/dist-packages (1.4.0)\n",
            "Requirement already satisfied: langchain-core<1.0.0,>=0.3.55 in /usr/local/lib/python3.11/dist-packages (from langchain) (0.3.56)\n",
            "Requirement already satisfied: langchain-text-splitters<1.0.0,>=0.3.8 in /usr/local/lib/python3.11/dist-packages (from langchain) (0.3.8)\n",
            "Requirement already satisfied: langsmith<0.4,>=0.1.17 in /usr/local/lib/python3.11/dist-packages (from langchain) (0.3.39)\n",
            "Requirement already satisfied: pydantic<3.0.0,>=2.7.4 in /usr/local/lib/python3.11/dist-packages (from langchain) (2.11.4)\n",
            "Requirement already satisfied: SQLAlchemy<3,>=1.4 in /usr/local/lib/python3.11/dist-packages (from langchain) (2.0.40)\n",
            "Requirement already satisfied: requests<3,>=2 in /usr/local/lib/python3.11/dist-packages (from langchain) (2.32.3)\n",
            "Requirement already satisfied: PyYAML>=5.3 in /usr/local/lib/python3.11/dist-packages (from langchain) (6.0.2)\n",
            "Requirement already satisfied: build>=1.0.3 in /usr/local/lib/python3.11/dist-packages (from chromadb) (1.2.2.post1)\n",
            "Requirement already satisfied: fastapi==0.115.9 in /usr/local/lib/python3.11/dist-packages (from chromadb) (0.115.9)\n",
            "Requirement already satisfied: uvicorn>=0.18.3 in /usr/local/lib/python3.11/dist-packages (from uvicorn[standard]>=0.18.3->chromadb) (0.34.2)\n",
            "Requirement already satisfied: numpy>=1.22.5 in /usr/local/lib/python3.11/dist-packages (from chromadb) (2.0.2)\n",
            "Requirement already satisfied: posthog>=2.4.0 in /usr/local/lib/python3.11/dist-packages (from chromadb) (4.0.1)\n",
            "Requirement already satisfied: typing-extensions>=4.5.0 in /usr/local/lib/python3.11/dist-packages (from chromadb) (4.13.2)\n",
            "Requirement already satisfied: onnxruntime>=1.14.1 in /usr/local/lib/python3.11/dist-packages (from chromadb) (1.21.1)\n",
            "Requirement already satisfied: opentelemetry-api>=1.2.0 in /usr/local/lib/python3.11/dist-packages (from chromadb) (1.32.1)\n",
            "Requirement already satisfied: opentelemetry-exporter-otlp-proto-grpc>=1.2.0 in /usr/local/lib/python3.11/dist-packages (from chromadb) (1.32.1)\n",
            "Requirement already satisfied: opentelemetry-instrumentation-fastapi>=0.41b0 in /usr/local/lib/python3.11/dist-packages (from chromadb) (0.53b1)\n",
            "Requirement already satisfied: opentelemetry-sdk>=1.2.0 in /usr/local/lib/python3.11/dist-packages (from chromadb) (1.32.1)\n",
            "Requirement already satisfied: tokenizers>=0.13.2 in /usr/local/lib/python3.11/dist-packages (from chromadb) (0.21.1)\n",
            "Requirement already satisfied: pypika>=0.48.9 in /usr/local/lib/python3.11/dist-packages (from chromadb) (0.48.9)\n",
            "Requirement already satisfied: tqdm>=4.65.0 in /usr/local/lib/python3.11/dist-packages (from chromadb) (4.67.1)\n",
            "Requirement already satisfied: overrides>=7.3.1 in /usr/local/lib/python3.11/dist-packages (from chromadb) (7.7.0)\n",
            "Requirement already satisfied: importlib-resources in /usr/local/lib/python3.11/dist-packages (from chromadb) (6.5.2)\n",
            "Requirement already satisfied: grpcio>=1.58.0 in /usr/local/lib/python3.11/dist-packages (from chromadb) (1.71.0)\n",
            "Requirement already satisfied: bcrypt>=4.0.1 in /usr/local/lib/python3.11/dist-packages (from chromadb) (4.3.0)\n",
            "Requirement already satisfied: typer>=0.9.0 in /usr/local/lib/python3.11/dist-packages (from chromadb) (0.15.3)\n",
            "Requirement already satisfied: kubernetes>=28.1.0 in /usr/local/lib/python3.11/dist-packages (from chromadb) (32.0.1)\n",
            "Requirement already satisfied: tenacity>=8.2.3 in /usr/local/lib/python3.11/dist-packages (from chromadb) (9.1.2)\n",
            "Requirement already satisfied: mmh3>=4.0.1 in /usr/local/lib/python3.11/dist-packages (from chromadb) (5.1.0)\n",
            "Requirement already satisfied: orjson>=3.9.12 in /usr/local/lib/python3.11/dist-packages (from chromadb) (3.10.18)\n",
            "Requirement already satisfied: httpx>=0.27.0 in /usr/local/lib/python3.11/dist-packages (from chromadb) (0.28.1)\n",
            "Requirement already satisfied: rich>=10.11.0 in /usr/local/lib/python3.11/dist-packages (from chromadb) (13.9.4)\n",
            "Requirement already satisfied: jsonschema>=4.19.0 in /usr/local/lib/python3.11/dist-packages (from chromadb) (4.23.0)\n",
            "Requirement already satisfied: starlette<0.46.0,>=0.40.0 in /usr/local/lib/python3.11/dist-packages (from fastapi==0.115.9->chromadb) (0.45.3)\n",
            "Requirement already satisfied: packaging in /usr/local/lib/python3.11/dist-packages (from faiss-cpu) (24.2)\n",
            "Requirement already satisfied: anyio<5.0.0,>=4.8.0 in /usr/local/lib/python3.11/dist-packages (from google-genai) (4.9.0)\n",
            "Requirement already satisfied: google-auth<3.0.0,>=2.14.1 in /usr/local/lib/python3.11/dist-packages (from google-genai) (2.38.0)\n",
            "Requirement already satisfied: websockets<15.1.0,>=13.0.0 in /usr/local/lib/python3.11/dist-packages (from google-genai) (15.0.1)\n",
            "Requirement already satisfied: regex>=2022.1.18 in /usr/local/lib/python3.11/dist-packages (from tiktoken) (2024.11.6)\n",
            "Requirement already satisfied: filetype<2.0.0,>=1.2.0 in /usr/local/lib/python3.11/dist-packages (from langchain-google-genai) (1.2.0)\n",
            "Requirement already satisfied: google-ai-generativelanguage<0.7.0,>=0.6.18 in /usr/local/lib/python3.11/dist-packages (from langchain-google-genai) (0.6.18)\n",
            "Requirement already satisfied: aiohttp<4.0.0,>=3.8.3 in /usr/local/lib/python3.11/dist-packages (from langchain-community) (3.11.15)\n",
            "Requirement already satisfied: dataclasses-json<0.7,>=0.5.7 in /usr/local/lib/python3.11/dist-packages (from langchain-community) (0.6.7)\n",
            "Requirement already satisfied: pydantic-settings<3.0.0,>=2.4.0 in /usr/local/lib/python3.11/dist-packages (from langchain-community) (2.9.1)\n",
            "Requirement already satisfied: httpx-sse<1.0.0,>=0.4.0 in /usr/local/lib/python3.11/dist-packages (from langchain-community) (0.4.0)\n",
            "Requirement already satisfied: beautifulsoup4 in /usr/local/lib/python3.11/dist-packages (from wikipedia) (4.13.4)\n",
            "Requirement already satisfied: aiohappyeyeballs>=2.3.0 in /usr/local/lib/python3.11/dist-packages (from aiohttp<4.0.0,>=3.8.3->langchain-community) (2.6.1)\n",
            "Requirement already satisfied: aiosignal>=1.1.2 in /usr/local/lib/python3.11/dist-packages (from aiohttp<4.0.0,>=3.8.3->langchain-community) (1.3.2)\n",
            "Requirement already satisfied: attrs>=17.3.0 in /usr/local/lib/python3.11/dist-packages (from aiohttp<4.0.0,>=3.8.3->langchain-community) (25.3.0)\n",
            "Requirement already satisfied: frozenlist>=1.1.1 in /usr/local/lib/python3.11/dist-packages (from aiohttp<4.0.0,>=3.8.3->langchain-community) (1.6.0)\n",
            "Requirement already satisfied: multidict<7.0,>=4.5 in /usr/local/lib/python3.11/dist-packages (from aiohttp<4.0.0,>=3.8.3->langchain-community) (6.4.3)\n",
            "Requirement already satisfied: propcache>=0.2.0 in /usr/local/lib/python3.11/dist-packages (from aiohttp<4.0.0,>=3.8.3->langchain-community) (0.3.1)\n",
            "Requirement already satisfied: yarl<2.0,>=1.17.0 in /usr/local/lib/python3.11/dist-packages (from aiohttp<4.0.0,>=3.8.3->langchain-community) (1.20.0)\n",
            "Requirement already satisfied: idna>=2.8 in /usr/local/lib/python3.11/dist-packages (from anyio<5.0.0,>=4.8.0->google-genai) (3.10)\n",
            "Requirement already satisfied: sniffio>=1.1 in /usr/local/lib/python3.11/dist-packages (from anyio<5.0.0,>=4.8.0->google-genai) (1.3.1)\n",
            "Requirement already satisfied: pyproject_hooks in /usr/local/lib/python3.11/dist-packages (from build>=1.0.3->chromadb) (1.2.0)\n",
            "Requirement already satisfied: marshmallow<4.0.0,>=3.18.0 in /usr/local/lib/python3.11/dist-packages (from dataclasses-json<0.7,>=0.5.7->langchain-community) (3.26.1)\n",
            "Requirement already satisfied: typing-inspect<1,>=0.4.0 in /usr/local/lib/python3.11/dist-packages (from dataclasses-json<0.7,>=0.5.7->langchain-community) (0.9.0)\n",
            "Requirement already satisfied: google-api-core!=2.0.*,!=2.1.*,!=2.10.*,!=2.2.*,!=2.3.*,!=2.4.*,!=2.5.*,!=2.6.*,!=2.7.*,!=2.8.*,!=2.9.*,<3.0.0,>=1.34.1 in /usr/local/lib/python3.11/dist-packages (from google-api-core[grpc]!=2.0.*,!=2.1.*,!=2.10.*,!=2.2.*,!=2.3.*,!=2.4.*,!=2.5.*,!=2.6.*,!=2.7.*,!=2.8.*,!=2.9.*,<3.0.0,>=1.34.1->google-ai-generativelanguage<0.7.0,>=0.6.18->langchain-google-genai) (2.24.2)\n",
            "Requirement already satisfied: proto-plus<2.0.0,>=1.22.3 in /usr/local/lib/python3.11/dist-packages (from google-ai-generativelanguage<0.7.0,>=0.6.18->langchain-google-genai) (1.26.1)\n",
            "Requirement already satisfied: protobuf!=4.21.0,!=4.21.1,!=4.21.2,!=4.21.3,!=4.21.4,!=4.21.5,<7.0.0,>=3.20.2 in /usr/local/lib/python3.11/dist-packages (from google-ai-generativelanguage<0.7.0,>=0.6.18->langchain-google-genai) (5.29.4)\n",
            "Requirement already satisfied: cachetools<6.0,>=2.0.0 in /usr/local/lib/python3.11/dist-packages (from google-auth<3.0.0,>=2.14.1->google-genai) (5.5.2)\n",
            "Requirement already satisfied: pyasn1-modules>=0.2.1 in /usr/local/lib/python3.11/dist-packages (from google-auth<3.0.0,>=2.14.1->google-genai) (0.4.2)\n",
            "Requirement already satisfied: rsa<5,>=3.1.4 in /usr/local/lib/python3.11/dist-packages (from google-auth<3.0.0,>=2.14.1->google-genai) (4.9.1)\n",
            "Requirement already satisfied: certifi in /usr/local/lib/python3.11/dist-packages (from httpx>=0.27.0->chromadb) (2025.4.26)\n",
            "Requirement already satisfied: httpcore==1.* in /usr/local/lib/python3.11/dist-packages (from httpx>=0.27.0->chromadb) (1.0.9)\n",
            "Requirement already satisfied: h11>=0.16 in /usr/local/lib/python3.11/dist-packages (from httpcore==1.*->httpx>=0.27.0->chromadb) (0.16.0)\n",
            "Requirement already satisfied: jsonschema-specifications>=2023.03.6 in /usr/local/lib/python3.11/dist-packages (from jsonschema>=4.19.0->chromadb) (2025.4.1)\n",
            "Requirement already satisfied: referencing>=0.28.4 in /usr/local/lib/python3.11/dist-packages (from jsonschema>=4.19.0->chromadb) (0.36.2)\n",
            "Requirement already satisfied: rpds-py>=0.7.1 in /usr/local/lib/python3.11/dist-packages (from jsonschema>=4.19.0->chromadb) (0.24.0)\n",
            "Requirement already satisfied: six>=1.9.0 in /usr/local/lib/python3.11/dist-packages (from kubernetes>=28.1.0->chromadb) (1.17.0)\n",
            "Requirement already satisfied: python-dateutil>=2.5.3 in /usr/local/lib/python3.11/dist-packages (from kubernetes>=28.1.0->chromadb) (2.9.0.post0)\n",
            "Requirement already satisfied: websocket-client!=0.40.0,!=0.41.*,!=0.42.*,>=0.32.0 in /usr/local/lib/python3.11/dist-packages (from kubernetes>=28.1.0->chromadb) (1.8.0)\n",
            "Requirement already satisfied: requests-oauthlib in /usr/local/lib/python3.11/dist-packages (from kubernetes>=28.1.0->chromadb) (2.0.0)\n",
            "Requirement already satisfied: oauthlib>=3.2.2 in /usr/local/lib/python3.11/dist-packages (from kubernetes>=28.1.0->chromadb) (3.2.2)\n",
            "Requirement already satisfied: urllib3>=1.24.2 in /usr/local/lib/python3.11/dist-packages (from kubernetes>=28.1.0->chromadb) (2.4.0)\n",
            "Requirement already satisfied: durationpy>=0.7 in /usr/local/lib/python3.11/dist-packages (from kubernetes>=28.1.0->chromadb) (0.9)\n",
            "Requirement already satisfied: jsonpatch<2.0,>=1.33 in /usr/local/lib/python3.11/dist-packages (from langchain-core<1.0.0,>=0.3.55->langchain) (1.33)\n",
            "Requirement already satisfied: requests-toolbelt<2.0.0,>=1.0.0 in /usr/local/lib/python3.11/dist-packages (from langsmith<0.4,>=0.1.17->langchain) (1.0.0)\n",
            "Requirement already satisfied: zstandard<0.24.0,>=0.23.0 in /usr/local/lib/python3.11/dist-packages (from langsmith<0.4,>=0.1.17->langchain) (0.23.0)\n",
            "Requirement already satisfied: coloredlogs in /usr/local/lib/python3.11/dist-packages (from onnxruntime>=1.14.1->chromadb) (15.0.1)\n",
            "Requirement already satisfied: flatbuffers in /usr/local/lib/python3.11/dist-packages (from onnxruntime>=1.14.1->chromadb) (25.2.10)\n",
            "Requirement already satisfied: sympy in /usr/local/lib/python3.11/dist-packages (from onnxruntime>=1.14.1->chromadb) (1.13.1)\n",
            "Requirement already satisfied: deprecated>=1.2.6 in /usr/local/lib/python3.11/dist-packages (from opentelemetry-api>=1.2.0->chromadb) (1.2.18)\n",
            "Requirement already satisfied: importlib-metadata<8.7.0,>=6.0 in /usr/local/lib/python3.11/dist-packages (from opentelemetry-api>=1.2.0->chromadb) (8.6.1)\n",
            "Requirement already satisfied: googleapis-common-protos~=1.52 in /usr/local/lib/python3.11/dist-packages (from opentelemetry-exporter-otlp-proto-grpc>=1.2.0->chromadb) (1.70.0)\n",
            "Requirement already satisfied: opentelemetry-exporter-otlp-proto-common==1.32.1 in /usr/local/lib/python3.11/dist-packages (from opentelemetry-exporter-otlp-proto-grpc>=1.2.0->chromadb) (1.32.1)\n",
            "Requirement already satisfied: opentelemetry-proto==1.32.1 in /usr/local/lib/python3.11/dist-packages (from opentelemetry-exporter-otlp-proto-grpc>=1.2.0->chromadb) (1.32.1)\n",
            "Requirement already satisfied: opentelemetry-instrumentation-asgi==0.53b1 in /usr/local/lib/python3.11/dist-packages (from opentelemetry-instrumentation-fastapi>=0.41b0->chromadb) (0.53b1)\n",
            "Requirement already satisfied: opentelemetry-instrumentation==0.53b1 in /usr/local/lib/python3.11/dist-packages (from opentelemetry-instrumentation-fastapi>=0.41b0->chromadb) (0.53b1)\n",
            "Requirement already satisfied: opentelemetry-semantic-conventions==0.53b1 in /usr/local/lib/python3.11/dist-packages (from opentelemetry-instrumentation-fastapi>=0.41b0->chromadb) (0.53b1)\n",
            "Requirement already satisfied: opentelemetry-util-http==0.53b1 in /usr/local/lib/python3.11/dist-packages (from opentelemetry-instrumentation-fastapi>=0.41b0->chromadb) (0.53b1)\n",
            "Requirement already satisfied: wrapt<2.0.0,>=1.0.0 in /usr/local/lib/python3.11/dist-packages (from opentelemetry-instrumentation==0.53b1->opentelemetry-instrumentation-fastapi>=0.41b0->chromadb) (1.17.2)\n",
            "Requirement already satisfied: asgiref~=3.0 in /usr/local/lib/python3.11/dist-packages (from opentelemetry-instrumentation-asgi==0.53b1->opentelemetry-instrumentation-fastapi>=0.41b0->chromadb) (3.8.1)\n",
            "Requirement already satisfied: backoff>=1.10.0 in /usr/local/lib/python3.11/dist-packages (from posthog>=2.4.0->chromadb) (2.2.1)\n",
            "Requirement already satisfied: distro>=1.5.0 in /usr/local/lib/python3.11/dist-packages (from posthog>=2.4.0->chromadb) (1.9.0)\n",
            "Requirement already satisfied: annotated-types>=0.6.0 in /usr/local/lib/python3.11/dist-packages (from pydantic<3.0.0,>=2.7.4->langchain) (0.7.0)\n",
            "Requirement already satisfied: pydantic-core==2.33.2 in /usr/local/lib/python3.11/dist-packages (from pydantic<3.0.0,>=2.7.4->langchain) (2.33.2)\n",
            "Requirement already satisfied: typing-inspection>=0.4.0 in /usr/local/lib/python3.11/dist-packages (from pydantic<3.0.0,>=2.7.4->langchain) (0.4.0)\n",
            "Requirement already satisfied: python-dotenv>=0.21.0 in /usr/local/lib/python3.11/dist-packages (from pydantic-settings<3.0.0,>=2.4.0->langchain-community) (1.1.0)\n",
            "Requirement already satisfied: charset-normalizer<4,>=2 in /usr/local/lib/python3.11/dist-packages (from requests<3,>=2->langchain) (3.4.1)\n",
            "Requirement already satisfied: markdown-it-py>=2.2.0 in /usr/local/lib/python3.11/dist-packages (from rich>=10.11.0->chromadb) (3.0.0)\n",
            "Requirement already satisfied: pygments<3.0.0,>=2.13.0 in /usr/local/lib/python3.11/dist-packages (from rich>=10.11.0->chromadb) (2.19.1)\n",
            "Requirement already satisfied: greenlet>=1 in /usr/local/lib/python3.11/dist-packages (from SQLAlchemy<3,>=1.4->langchain) (3.2.1)\n",
            "Requirement already satisfied: huggingface-hub<1.0,>=0.16.4 in /usr/local/lib/python3.11/dist-packages (from tokenizers>=0.13.2->chromadb) (0.30.2)\n",
            "Requirement already satisfied: click>=8.0.0 in /usr/local/lib/python3.11/dist-packages (from typer>=0.9.0->chromadb) (8.1.8)\n",
            "Requirement already satisfied: shellingham>=1.3.0 in /usr/local/lib/python3.11/dist-packages (from typer>=0.9.0->chromadb) (1.5.4)\n",
            "Requirement already satisfied: httptools>=0.6.3 in /usr/local/lib/python3.11/dist-packages (from uvicorn[standard]>=0.18.3->chromadb) (0.6.4)\n",
            "Requirement already satisfied: uvloop!=0.15.0,!=0.15.1,>=0.14.0 in /usr/local/lib/python3.11/dist-packages (from uvicorn[standard]>=0.18.3->chromadb) (0.21.0)\n",
            "Requirement already satisfied: watchfiles>=0.13 in /usr/local/lib/python3.11/dist-packages (from uvicorn[standard]>=0.18.3->chromadb) (1.0.5)\n",
            "Requirement already satisfied: soupsieve>1.2 in /usr/local/lib/python3.11/dist-packages (from beautifulsoup4->wikipedia) (2.7)\n",
            "Requirement already satisfied: grpcio-status<2.0.dev0,>=1.33.2 in /usr/local/lib/python3.11/dist-packages (from google-api-core[grpc]!=2.0.*,!=2.1.*,!=2.10.*,!=2.2.*,!=2.3.*,!=2.4.*,!=2.5.*,!=2.6.*,!=2.7.*,!=2.8.*,!=2.9.*,<3.0.0,>=1.34.1->google-ai-generativelanguage<0.7.0,>=0.6.18->langchain-google-genai) (1.71.0)\n",
            "Requirement already satisfied: filelock in /usr/local/lib/python3.11/dist-packages (from huggingface-hub<1.0,>=0.16.4->tokenizers>=0.13.2->chromadb) (3.18.0)\n",
            "Requirement already satisfied: fsspec>=2023.5.0 in /usr/local/lib/python3.11/dist-packages (from huggingface-hub<1.0,>=0.16.4->tokenizers>=0.13.2->chromadb) (2025.3.2)\n",
            "Requirement already satisfied: zipp>=3.20 in /usr/local/lib/python3.11/dist-packages (from importlib-metadata<8.7.0,>=6.0->opentelemetry-api>=1.2.0->chromadb) (3.21.0)\n",
            "Requirement already satisfied: jsonpointer>=1.9 in /usr/local/lib/python3.11/dist-packages (from jsonpatch<2.0,>=1.33->langchain-core<1.0.0,>=0.3.55->langchain) (3.0.0)\n",
            "Requirement already satisfied: mdurl~=0.1 in /usr/local/lib/python3.11/dist-packages (from markdown-it-py>=2.2.0->rich>=10.11.0->chromadb) (0.1.2)\n",
            "Requirement already satisfied: pyasn1<0.7.0,>=0.6.1 in /usr/local/lib/python3.11/dist-packages (from pyasn1-modules>=0.2.1->google-auth<3.0.0,>=2.14.1->google-genai) (0.6.1)\n",
            "Requirement already satisfied: mypy-extensions>=0.3.0 in /usr/local/lib/python3.11/dist-packages (from typing-inspect<1,>=0.4.0->dataclasses-json<0.7,>=0.5.7->langchain-community) (1.1.0)\n",
            "Requirement already satisfied: humanfriendly>=9.1 in /usr/local/lib/python3.11/dist-packages (from coloredlogs->onnxruntime>=1.14.1->chromadb) (10.0)\n",
            "Requirement already satisfied: mpmath<1.4,>=1.1.0 in /usr/local/lib/python3.11/dist-packages (from sympy->onnxruntime>=1.14.1->chromadb) (1.3.0)\n"
          ]
        }
      ],
      "source": [
        "!pip install langchain chromadb faiss-cpu google-genai tiktoken langchain-google-genai langchain-community wikipedia"
      ]
    },
    {
      "cell_type": "code",
      "source": [
        "from langchain_community.retrievers import WikipediaRetriever"
      ],
      "metadata": {
        "id": "3gfhCgJDVLE3"
      },
      "execution_count": 16,
      "outputs": []
    },
    {
      "cell_type": "code",
      "source": [
        "retriever = WikipediaRetriever(top_k_results=2, lang=\"en\")"
      ],
      "metadata": {
        "id": "UkSbvEvHXlIn"
      },
      "execution_count": 17,
      "outputs": []
    },
    {
      "cell_type": "code",
      "source": [
        "retriever"
      ],
      "metadata": {
        "colab": {
          "base_uri": "https://localhost:8080/"
        },
        "id": "DaR7ZdI_yqui",
        "outputId": "3f08a522-ff7c-434c-e60c-94387f90733d"
      },
      "execution_count": 18,
      "outputs": [
        {
          "output_type": "execute_result",
          "data": {
            "text/plain": [
              "WikipediaRetriever(wiki_client=<module 'wikipedia' from '/usr/local/lib/python3.11/dist-packages/wikipedia/__init__.py'>, top_k_results=2)"
            ]
          },
          "metadata": {},
          "execution_count": 18
        }
      ]
    },
    {
      "cell_type": "code",
      "source": [
        "query = \"about ipl\"\n",
        "\n",
        "docs = retriever.invoke(query)"
      ],
      "metadata": {
        "id": "vP4el9_2Zz6o"
      },
      "execution_count": 26,
      "outputs": []
    },
    {
      "cell_type": "code",
      "source": [
        "docs"
      ],
      "metadata": {
        "colab": {
          "base_uri": "https://localhost:8080/"
        },
        "id": "ZNkYuFv3yMzE",
        "outputId": "0b8b2e12-e670-4626-97d9-ea69313a92ee"
      },
      "execution_count": 27,
      "outputs": [
        {
          "output_type": "execute_result",
          "data": {
            "text/plain": [
              "[Document(metadata={'title': '2025 Indian Premier League', 'summary': 'The 2025 Indian Premier League, also known as IPL 18 and branded as TATA IPL 2025, is the 18th edition of the Indian Premier League. The tournament features 10 teams competing in 74 matches from 22 March to 25 May 2025. The league is being held across 13 cities in India, with Kolkata hosting the opening ceremony as well as the final since the Kolkata Knight Riders are the defending champions.', 'source': 'https://en.wikipedia.org/wiki/2025_Indian_Premier_League'}, page_content='The 2025 Indian Premier League, also known as IPL 18 and branded as TATA IPL 2025, is the 18th edition of the Indian Premier League. The tournament features 10 teams competing in 74 matches from 22 March to 25 May 2025. The league is being held across 13 cities in India, with Kolkata hosting the opening ceremony as well as the final since the Kolkata Knight Riders are the defending champions.\\n\\n\\n== Background ==\\nThe Indian Premier League is a franchise Twenty20 cricket league held in India, organized by the Board of Control for Cricket in India (BCCI). It is held annually since the first edition in 2008. Kolkata Knight Riders are the defending champions, having won their third title in the previous season after beating Sunrisers Hyderabad in the final.\\n\\n\\n=== Format ===\\nEach team would play twice against the teams in their group and the team in the same row in the other group, and once against the remaining four teams in the other group. After the group stage, the top four teams based on aggregate points would advance to the playoffs. In this stage, the top two teams compete with each other (in a match titled \"Qualifier 1\"), as does the remaining two teams (in a match titled \"Eliminator\"). While the winner of Qualifier 1 would directly qualify for the final match, the losing team had another chance to qualify for the final match by competing against the winning team of the Eliminator (in a match titled \"Qualifier 2\"). The winner of this subsequent Qualifier 2 match advanced to the final match. The IPL Governing Council decided to keep the number of matches to 74 for this edition as it was in the previous three seasons to help the cricketers balance their workload, however it will be increased to 84 from 2026 onwards.\\n\\n\\n==== Rule changes ====\\nIt was announced that the IPL will follow the International Cricket Council\\'s (ICC) Code of Conduct regulations used for Twenty20 International matches from 2025 onwards. The IPL had previously used its own Code of Conduct.\\n\\n\\n=== Schedule ===\\nAccording to ESPNcricinfo, the dates of the tournament window for the three seasons between 2025 and 2027 were sent to franchises ahead of the 2025 auction. In November 2024, the tentative dates for the three seasons were announced, with the 2025 edition set to take place from 14 March to 25 May. In January 2025, it was announced that the 2025 season would commence on 21 March to allow for a two-week gap after the 2025 ICC Champions Trophy final scheduled to take place on 9 March. This led to a clash with the 2025 Pakistan Super League taking place from 11 April to 25 May 2025, which was moved from its typical February-March window for the same reason.\\nThe first two matches were confirmed by the BCCI on 13 February 2025, with the inaugural match being hosted at the Eden Gardens, Kolkata between the defending champions Kolkata Knight Riders and Royal Challengers Bengaluru on 22 March. The complete fixtures were announced on 16 February. The last group match will be played between Lucknow Super Giants and Sunrisers Hyderabad on 18 May 2025 at the BRSABV Ekana Cricket Stadium, Lucknow. It was announced that both Qualifier 1 and Eliminator would be played at the Rajiv Gandhi International Cricket Stadium, Hyderabad from 20 to 21 May, and that Qualifier 2 and final would be played in Kolkata, with the venue hosting its third IPL final after 2013 and 2015.\\n\\n\\n=== Broadcasting ===\\nDisney Star\\'s Star Sports and Viacom18\\'s JioCinema had initially acquired the satellite and digital broadcasting rights for the 2023–2027 IPL cycle. In November 2024, the two companies merged to form JioStar. In February 2025, JioCinema and Disney+ Hotstar merged to form JioHotstar, which now holds the domestic digital broadcasting rights for the remainder of the 2023–2027 cycle.\\n\\n\\n== Teams ==\\nThe same 10 teams from the previous season are competing.\\n\\n\\n== Squads ==\\n\\n\\n== Personnel changes ==\\n\\nThe franchises were required to submit their retention lists before 31 October 2024 and a tota'),\n",
              " Document(metadata={'title': '2024 Indian Premier League', 'summary': 'The 2024 Indian Premier League (also known as IPL 17 and branded as TATA IPL 2024) was the 17th edition of the Indian Premier League. The tournament featured ten teams competing in 74 matches from 22 March to 26 May 2024. It was held across 13 cities in India, with Chennai hosting the opening ceremony and the final as the defending champions.\\nIn the final, Kolkata Knight Riders defeated Sunrisers Hyderabad by 8 wickets to win their third IPL title.\\n\\n', 'source': 'https://en.wikipedia.org/wiki/2024_Indian_Premier_League'}, page_content='The 2024 Indian Premier League (also known as IPL 17 and branded as TATA IPL 2024) was the 17th edition of the Indian Premier League. The tournament featured ten teams competing in 74 matches from 22 March to 26 May 2024. It was held across 13 cities in India, with Chennai hosting the opening ceremony and the final as the defending champions.\\nIn the final, Kolkata Knight Riders defeated Sunrisers Hyderabad by 8 wickets to win their third IPL title.\\n\\n\\n== Background ==\\nThe Indian Premier League is a franchise Twenty20 cricket league held in India, organized by the Board of Control for Cricket in India. It is held annually since the first edition in 2008. Chennai Super Kings were the defending champions, having won their fifth title in the previous season after beating Gujarat Titans in the final.\\n\\n\\n=== Format ===\\nThe format returned to the same as 2022, unlike 2023, with the group order being re-shuffled. Each team played twice against the teams in their group and the team in the same row in the other group, and once against the remaining four teams in the other group. After the group stage, the top four teams based on aggregate points qualified for the playoffs. In this stage, the top two teams competed with each other (in a match titled \"Qualifier 1\"), as did the remaining two teams (in a match titled \"Eliminator\"). While the winner of Qualifier 1 directly qualified for the final match, the losing team had another chance to qualify for the final match by competing against the winning team of the Eliminator match (in a match titled \"Qualifier 2\"). The winner of this subsequent Qualifier 2 match advanced to the final match.\\n\\n\\n==== Rule changes ====\\nBowlers could now bowl two bouncers per over, as trialled in India\\'s domestic T20 tournament, the 2023–24 Syed Mushtaq Ali Trophy.\\n\\n\\n=== Schedule ===\\nThere was a possibility of the tournament being held abroad due to a possibility of inadequate security, as a result of a clash with Lok Sabha Election 2024. On 14 February 2024, the chairman of the Indian Premier League announced that the tournament would take place in India and that the schedule would be finalized after a discussion with the Indian government and other agencies, with the allocation of matches to states to depend on the election schedule to be released by the Election Commission of India. On 21 February, it was announced that the schedule would be announced in two halves as the dates of the elections has not been confirmed till then.\\nA part of the schedule of the season\\'s fixtures was announced on 22 February 2024 which included the schedule for the first 17 days, consisting of 21 matches. The opening match of the tournament was to be played on 22 March at the M. A. Chidambaram Stadium in Chennai between defending champions Chennai Super Kings and the Royal Challengers Bengaluru. The remaining fixtures were announced on 25 March with the last group match to be played between Rajasthan Royals and Kolkata Knight Riders on 19 May at ACA Stadium, Guwahati. It was announced that both Qualifier 1 and Eliminator would be played at the Narendra Modi Stadium, Ahmedabad from 21 to 22 May, and that Qualifier 2 and final would be played in Chennai, with the venue hosting its third IPL final after 2011 and 2012.\\n\\n\\n=== Marketing ===\\nThe Tata Group renewed their contract as the title sponsors of the Indian Premier League for a tenure of 5 years (2024–28) for ₹2,500 crore (US$300 million) — the highest-ever sponsorship amount in the history of the league. The TATA Group previously held the title sponsorship rights for the IPL in 2022 and 2023. The advertising campaign for the 2024 IPL consisted of 18 sponsors and 250 advertisers including most notably — Dream11, Tata Motors, HDFC Bank, SBI, Thums Up, Pepsi, Parle Products, Google Pixel, Haier, and Vodafone.\\n\\n\\n=== Broadcasting ===\\n\\nThe media rights for 2023 to 2027 seasons were acquired by Viacom18 and Star Sports for ₹48,390 crore (US$5.7 billion), giving a valuation of ₹104 crore (US$')]"
            ]
          },
          "metadata": {},
          "execution_count": 27
        }
      ]
    },
    {
      "cell_type": "code",
      "source": [
        "for i, doc in enumerate(docs):\n",
        "  print(f\"\\n-- result {i+1} ---\")\n",
        "  print(f\"Content:\\n{doc.page_content}\\n\")\n",
        "  print(f\"Metadata:\\n{doc.metadata}\\n\")"
      ],
      "metadata": {
        "colab": {
          "base_uri": "https://localhost:8080/"
        },
        "id": "jW5Lx0ALyOMw",
        "outputId": "c71d51c8-3272-4167-c0ee-aa32c9348a4d"
      },
      "execution_count": 28,
      "outputs": [
        {
          "output_type": "stream",
          "name": "stdout",
          "text": [
            "\n",
            "-- result 1 ---\n",
            "Content:\n",
            "The 2025 Indian Premier League, also known as IPL 18 and branded as TATA IPL 2025, is the 18th edition of the Indian Premier League. The tournament features 10 teams competing in 74 matches from 22 March to 25 May 2025. The league is being held across 13 cities in India, with Kolkata hosting the opening ceremony as well as the final since the Kolkata Knight Riders are the defending champions.\n",
            "\n",
            "\n",
            "== Background ==\n",
            "The Indian Premier League is a franchise Twenty20 cricket league held in India, organized by the Board of Control for Cricket in India (BCCI). It is held annually since the first edition in 2008. Kolkata Knight Riders are the defending champions, having won their third title in the previous season after beating Sunrisers Hyderabad in the final.\n",
            "\n",
            "\n",
            "=== Format ===\n",
            "Each team would play twice against the teams in their group and the team in the same row in the other group, and once against the remaining four teams in the other group. After the group stage, the top four teams based on aggregate points would advance to the playoffs. In this stage, the top two teams compete with each other (in a match titled \"Qualifier 1\"), as does the remaining two teams (in a match titled \"Eliminator\"). While the winner of Qualifier 1 would directly qualify for the final match, the losing team had another chance to qualify for the final match by competing against the winning team of the Eliminator (in a match titled \"Qualifier 2\"). The winner of this subsequent Qualifier 2 match advanced to the final match. The IPL Governing Council decided to keep the number of matches to 74 for this edition as it was in the previous three seasons to help the cricketers balance their workload, however it will be increased to 84 from 2026 onwards.\n",
            "\n",
            "\n",
            "==== Rule changes ====\n",
            "It was announced that the IPL will follow the International Cricket Council's (ICC) Code of Conduct regulations used for Twenty20 International matches from 2025 onwards. The IPL had previously used its own Code of Conduct.\n",
            "\n",
            "\n",
            "=== Schedule ===\n",
            "According to ESPNcricinfo, the dates of the tournament window for the three seasons between 2025 and 2027 were sent to franchises ahead of the 2025 auction. In November 2024, the tentative dates for the three seasons were announced, with the 2025 edition set to take place from 14 March to 25 May. In January 2025, it was announced that the 2025 season would commence on 21 March to allow for a two-week gap after the 2025 ICC Champions Trophy final scheduled to take place on 9 March. This led to a clash with the 2025 Pakistan Super League taking place from 11 April to 25 May 2025, which was moved from its typical February-March window for the same reason.\n",
            "The first two matches were confirmed by the BCCI on 13 February 2025, with the inaugural match being hosted at the Eden Gardens, Kolkata between the defending champions Kolkata Knight Riders and Royal Challengers Bengaluru on 22 March. The complete fixtures were announced on 16 February. The last group match will be played between Lucknow Super Giants and Sunrisers Hyderabad on 18 May 2025 at the BRSABV Ekana Cricket Stadium, Lucknow. It was announced that both Qualifier 1 and Eliminator would be played at the Rajiv Gandhi International Cricket Stadium, Hyderabad from 20 to 21 May, and that Qualifier 2 and final would be played in Kolkata, with the venue hosting its third IPL final after 2013 and 2015.\n",
            "\n",
            "\n",
            "=== Broadcasting ===\n",
            "Disney Star's Star Sports and Viacom18's JioCinema had initially acquired the satellite and digital broadcasting rights for the 2023–2027 IPL cycle. In November 2024, the two companies merged to form JioStar. In February 2025, JioCinema and Disney+ Hotstar merged to form JioHotstar, which now holds the domestic digital broadcasting rights for the remainder of the 2023–2027 cycle.\n",
            "\n",
            "\n",
            "== Teams ==\n",
            "The same 10 teams from the previous season are competing.\n",
            "\n",
            "\n",
            "== Squads ==\n",
            "\n",
            "\n",
            "== Personnel changes ==\n",
            "\n",
            "The franchises were required to submit their retention lists before 31 October 2024 and a tota\n",
            "\n",
            "Metadata:\n",
            "{'title': '2025 Indian Premier League', 'summary': 'The 2025 Indian Premier League, also known as IPL 18 and branded as TATA IPL 2025, is the 18th edition of the Indian Premier League. The tournament features 10 teams competing in 74 matches from 22 March to 25 May 2025. The league is being held across 13 cities in India, with Kolkata hosting the opening ceremony as well as the final since the Kolkata Knight Riders are the defending champions.', 'source': 'https://en.wikipedia.org/wiki/2025_Indian_Premier_League'}\n",
            "\n",
            "\n",
            "-- result 2 ---\n",
            "Content:\n",
            "The 2024 Indian Premier League (also known as IPL 17 and branded as TATA IPL 2024) was the 17th edition of the Indian Premier League. The tournament featured ten teams competing in 74 matches from 22 March to 26 May 2024. It was held across 13 cities in India, with Chennai hosting the opening ceremony and the final as the defending champions.\n",
            "In the final, Kolkata Knight Riders defeated Sunrisers Hyderabad by 8 wickets to win their third IPL title.\n",
            "\n",
            "\n",
            "== Background ==\n",
            "The Indian Premier League is a franchise Twenty20 cricket league held in India, organized by the Board of Control for Cricket in India. It is held annually since the first edition in 2008. Chennai Super Kings were the defending champions, having won their fifth title in the previous season after beating Gujarat Titans in the final.\n",
            "\n",
            "\n",
            "=== Format ===\n",
            "The format returned to the same as 2022, unlike 2023, with the group order being re-shuffled. Each team played twice against the teams in their group and the team in the same row in the other group, and once against the remaining four teams in the other group. After the group stage, the top four teams based on aggregate points qualified for the playoffs. In this stage, the top two teams competed with each other (in a match titled \"Qualifier 1\"), as did the remaining two teams (in a match titled \"Eliminator\"). While the winner of Qualifier 1 directly qualified for the final match, the losing team had another chance to qualify for the final match by competing against the winning team of the Eliminator match (in a match titled \"Qualifier 2\"). The winner of this subsequent Qualifier 2 match advanced to the final match.\n",
            "\n",
            "\n",
            "==== Rule changes ====\n",
            "Bowlers could now bowl two bouncers per over, as trialled in India's domestic T20 tournament, the 2023–24 Syed Mushtaq Ali Trophy.\n",
            "\n",
            "\n",
            "=== Schedule ===\n",
            "There was a possibility of the tournament being held abroad due to a possibility of inadequate security, as a result of a clash with Lok Sabha Election 2024. On 14 February 2024, the chairman of the Indian Premier League announced that the tournament would take place in India and that the schedule would be finalized after a discussion with the Indian government and other agencies, with the allocation of matches to states to depend on the election schedule to be released by the Election Commission of India. On 21 February, it was announced that the schedule would be announced in two halves as the dates of the elections has not been confirmed till then.\n",
            "A part of the schedule of the season's fixtures was announced on 22 February 2024 which included the schedule for the first 17 days, consisting of 21 matches. The opening match of the tournament was to be played on 22 March at the M. A. Chidambaram Stadium in Chennai between defending champions Chennai Super Kings and the Royal Challengers Bengaluru. The remaining fixtures were announced on 25 March with the last group match to be played between Rajasthan Royals and Kolkata Knight Riders on 19 May at ACA Stadium, Guwahati. It was announced that both Qualifier 1 and Eliminator would be played at the Narendra Modi Stadium, Ahmedabad from 21 to 22 May, and that Qualifier 2 and final would be played in Chennai, with the venue hosting its third IPL final after 2011 and 2012.\n",
            "\n",
            "\n",
            "=== Marketing ===\n",
            "The Tata Group renewed their contract as the title sponsors of the Indian Premier League for a tenure of 5 years (2024–28) for ₹2,500 crore (US$300 million) — the highest-ever sponsorship amount in the history of the league. The TATA Group previously held the title sponsorship rights for the IPL in 2022 and 2023. The advertising campaign for the 2024 IPL consisted of 18 sponsors and 250 advertisers including most notably — Dream11, Tata Motors, HDFC Bank, SBI, Thums Up, Pepsi, Parle Products, Google Pixel, Haier, and Vodafone.\n",
            "\n",
            "\n",
            "=== Broadcasting ===\n",
            "\n",
            "The media rights for 2023 to 2027 seasons were acquired by Viacom18 and Star Sports for ₹48,390 crore (US$5.7 billion), giving a valuation of ₹104 crore (US$\n",
            "\n",
            "Metadata:\n",
            "{'title': '2024 Indian Premier League', 'summary': 'The 2024 Indian Premier League (also known as IPL 17 and branded as TATA IPL 2024) was the 17th edition of the Indian Premier League. The tournament featured ten teams competing in 74 matches from 22 March to 26 May 2024. It was held across 13 cities in India, with Chennai hosting the opening ceremony and the final as the defending champions.\\nIn the final, Kolkata Knight Riders defeated Sunrisers Hyderabad by 8 wickets to win their third IPL title.\\n\\n', 'source': 'https://en.wikipedia.org/wiki/2024_Indian_Premier_League'}\n",
            "\n"
          ]
        }
      ]
    },
    {
      "cell_type": "code",
      "source": [],
      "metadata": {
        "id": "4_uR_gk2yjgS"
      },
      "execution_count": null,
      "outputs": []
    }
  ]
}