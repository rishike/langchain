{
  "nbformat": 4,
  "nbformat_minor": 0,
  "metadata": {
    "colab": {
      "provenance": [],
      "authorship_tag": "ABX9TyMY6QVkwKfgpk9LHA9ogjFL",
      "include_colab_link": true
    },
    "kernelspec": {
      "name": "python3",
      "display_name": "Python 3"
    },
    "language_info": {
      "name": "python"
    }
  },
  "cells": [
    {
      "cell_type": "markdown",
      "metadata": {
        "id": "view-in-github",
        "colab_type": "text"
      },
      "source": [
        "<a href=\"https://colab.research.google.com/github/rishike/langchain/blob/master/langchain_runnable_test.ipynb\" target=\"_parent\"><img src=\"https://colab.research.google.com/assets/colab-badge.svg\" alt=\"Open In Colab\"/></a>"
      ]
    },
    {
      "cell_type": "code",
      "execution_count": 1,
      "metadata": {
        "id": "LO2cOZw2npgI"
      },
      "outputs": [],
      "source": [
        "import random\n",
        "class DummyLLM:\n",
        "\n",
        "  def __init__(self):\n",
        "    print('LLM created')\n",
        "\n",
        "  def predict(self, prompt):\n",
        "\n",
        "    response_list = [\n",
        "        'Delhi is the capital of india',\n",
        "        'Mumbai is the financial capital of india',\n",
        "        'Bangalore is the Silicon valley of india',\n",
        "        'Chennai is the cultural capital of india',\n",
        "        'Kolkata is the city of joy',\n",
        "        'Hyderabad is the city of nawabs',\n",
        "        'IPL is the indian cricket league',\n",
        "        'AI stands for Artifical Intelligence',\n",
        "        'ML stands for Machine Learning',\n",
        "        'DL stands for Deep Learning',\n",
        "        'NLP stands for Natural Language Processing',\n",
        "        'CNN stands for Convolutional Neural Network',\n",
        "    ]\n",
        "\n",
        "    return {'response': random.choice(response_list)}"
      ]
    },
    {
      "cell_type": "code",
      "source": [
        "llm = DummyLLM()"
      ],
      "metadata": {
        "colab": {
          "base_uri": "https://localhost:8080/"
        },
        "id": "HbTOpriRof-f",
        "outputId": "8fc0263f-f054-40a8-afba-24e7c0fab09e"
      },
      "execution_count": 2,
      "outputs": [
        {
          "output_type": "stream",
          "name": "stdout",
          "text": [
            "LLM created\n"
          ]
        }
      ]
    },
    {
      "cell_type": "code",
      "source": [
        "llm.predict('capital of india')"
      ],
      "metadata": {
        "colab": {
          "base_uri": "https://localhost:8080/"
        },
        "id": "qNqDW6XHojhT",
        "outputId": "59f536a4-8871-404e-a12d-54614ec06afe"
      },
      "execution_count": 4,
      "outputs": [
        {
          "output_type": "execute_result",
          "data": {
            "text/plain": [
              "{'response': 'Kolkata is the city of joy'}"
            ]
          },
          "metadata": {},
          "execution_count": 4
        }
      ]
    },
    {
      "cell_type": "code",
      "source": [
        "class DummyPromptTemplate:\n",
        "\n",
        "  def __init__(self, template, input_variables) -> None:\n",
        "    self.template = template\n",
        "    self.input_variables = input_variables\n",
        "\n",
        "  def format(self, input_dict):\n",
        "    return self.template.format(**input_dict)"
      ],
      "metadata": {
        "id": "F4b8hIsOoohl"
      },
      "execution_count": 5,
      "outputs": []
    },
    {
      "cell_type": "code",
      "source": [
        "template = DummyPromptTemplate(template=\"write a peom about {topic}\", input_variables=['topic'])"
      ],
      "metadata": {
        "id": "AMh7_XKupJ5J"
      },
      "execution_count": 6,
      "outputs": []
    },
    {
      "cell_type": "code",
      "source": [
        "prompt = template.format({'topic': 'india'})"
      ],
      "metadata": {
        "id": "mJpaMXahpTN0"
      },
      "execution_count": 9,
      "outputs": []
    },
    {
      "cell_type": "code",
      "source": [
        "llm.predict(prompt)"
      ],
      "metadata": {
        "colab": {
          "base_uri": "https://localhost:8080/"
        },
        "id": "w_wQHZtKpW9S",
        "outputId": "3f923683-a483-4be0-9cc5-aaf09d9e56d7"
      },
      "execution_count": 10,
      "outputs": [
        {
          "output_type": "execute_result",
          "data": {
            "text/plain": [
              "{'response': 'Hyderabad is the city of nawabs'}"
            ]
          },
          "metadata": {},
          "execution_count": 10
        }
      ]
    },
    {
      "cell_type": "code",
      "source": [
        "class DummyLLMChain:\n",
        "\n",
        "  def __init__(self, llm, prompt) -> None:\n",
        "    self.llm = llm\n",
        "    self.prompt = prompt\n",
        "\n",
        "  def run(self, input_dict):\n",
        "    prompt = self.prompt.format(input_dict)\n",
        "    result = self.llm.predict(prompt)\n",
        "\n",
        "    return result['response']"
      ],
      "metadata": {
        "id": "DzZ6nKpusbue"
      },
      "execution_count": 11,
      "outputs": []
    },
    {
      "cell_type": "code",
      "source": [
        "chain = DummyLLMChain(llm=llm, prompt=template)"
      ],
      "metadata": {
        "id": "Jc4FkdPmtN9a"
      },
      "execution_count": 12,
      "outputs": []
    },
    {
      "cell_type": "code",
      "source": [
        "chain.run({'topic': 'india'})"
      ],
      "metadata": {
        "colab": {
          "base_uri": "https://localhost:8080/",
          "height": 35
        },
        "id": "WmyzNA0xtTKC",
        "outputId": "e567ec3a-7862-411c-9080-8d2e046ae21d"
      },
      "execution_count": 35,
      "outputs": [
        {
          "output_type": "execute_result",
          "data": {
            "text/plain": [
              "'Delhi is the capital of india'"
            ],
            "application/vnd.google.colaboratory.intrinsic+json": {
              "type": "string"
            }
          },
          "metadata": {},
          "execution_count": 35
        }
      ]
    },
    {
      "cell_type": "code",
      "source": [],
      "metadata": {
        "id": "KyZMAcRWtWB1"
      },
      "execution_count": null,
      "outputs": []
    }
  ]
}