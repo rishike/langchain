{
  "nbformat": 4,
  "nbformat_minor": 0,
  "metadata": {
    "colab": {
      "provenance": [],
      "authorship_tag": "ABX9TyPZSDj3uPPMc1ckagk83x3H",
      "include_colab_link": true
    },
    "kernelspec": {
      "name": "python3",
      "display_name": "Python 3"
    },
    "language_info": {
      "name": "python"
    }
  },
  "cells": [
    {
      "cell_type": "markdown",
      "metadata": {
        "id": "view-in-github",
        "colab_type": "text"
      },
      "source": [
        "<a href=\"https://colab.research.google.com/github/rishike/langchain/blob/master/langchain_runnable_dummy.ipynb\" target=\"_parent\"><img src=\"https://colab.research.google.com/assets/colab-badge.svg\" alt=\"Open In Colab\"/></a>"
      ]
    },
    {
      "cell_type": "code",
      "source": [
        "from abc import ABC, abstractmethod"
      ],
      "metadata": {
        "id": "YWkqeEPmG68y"
      },
      "execution_count": 3,
      "outputs": []
    },
    {
      "cell_type": "code",
      "source": [
        "class Runnable(ABC):\n",
        "\n",
        "  @abstractmethod\n",
        "  def invoke(input_data):\n",
        "    pass"
      ],
      "metadata": {
        "id": "n0UzWNkzG_Hx"
      },
      "execution_count": 5,
      "outputs": []
    },
    {
      "cell_type": "code",
      "execution_count": 35,
      "metadata": {
        "id": "ISPLrndnUoTZ"
      },
      "outputs": [],
      "source": [
        "import random\n",
        "class DummyLLM(Runnable):\n",
        "\n",
        "  def __init__(self):\n",
        "    print('LLM created')\n",
        "\n",
        "  def predict(self, prompt):\n",
        "\n",
        "    response_list = [\n",
        "        'Delhi is the capital of india',\n",
        "        'Mumbai is the financial capital of india',\n",
        "        'Bangalore is the Silicon valley of india',\n",
        "        'Chennai is the cultural capital of india',\n",
        "        'Kolkata is the city of joy',\n",
        "        'Hyderabad is the city of nawabs',\n",
        "        'IPL is the indian cricket league',\n",
        "        'AI stands for Artifical Intelligence',\n",
        "        'ML stands for Machine Learning',\n",
        "        'DL stands for Deep Learning',\n",
        "        'NLP stands for Natural Language Processing',\n",
        "        'CNN stands for Convolutional Neural Network',\n",
        "    ]\n",
        "\n",
        "    return {'response': random.choice(response_list)}\n",
        "\n",
        "  def invoke(self, prompt):\n",
        "    response_list = [\n",
        "        'Delhi is the capital of india',\n",
        "        'Mumbai is the financial capital of india',\n",
        "        'Bangalore is the Silicon valley of india',\n",
        "        'Chennai is the cultural capital of india',\n",
        "        'Kolkata is the city of joy',\n",
        "        'Hyderabad is the city of nawabs',\n",
        "        'IPL is the indian cricket league',\n",
        "        'AI stands for Artifical Intelligence',\n",
        "        'ML stands for Machine Learning',\n",
        "        'DL stands for Deep Learning',\n",
        "        'NLP stands for Natural Language Processing',\n",
        "        'CNN stands for Convolutional Neural Network',\n",
        "    ]\n",
        "\n",
        "    return {'response': random.choice(response_list)}"
      ]
    },
    {
      "cell_type": "code",
      "source": [
        "class DummyPromptTemplate:\n",
        "\n",
        "  def __init__(self, template, input_variables) -> None:\n",
        "    self.template = template\n",
        "    self.input_variables = input_variables\n",
        "\n",
        "  def invoke(self, input_data):\n",
        "    return self.template.format(**input_data)\n",
        "\n",
        "  def format(self, input_dict):\n",
        "    return self.template.format(**input_dict)"
      ],
      "metadata": {
        "id": "ir9vCo6OBY9i"
      },
      "execution_count": 28,
      "outputs": []
    },
    {
      "cell_type": "code",
      "source": [
        "class RunnableConnector(Runnable):\n",
        "\n",
        "  def __init__(self, runnable_list):\n",
        "    self.runnable_list = runnable_list\n",
        "\n",
        "  def invoke(self, input_data):\n",
        "    for runnable in self.runnable_list:\n",
        "      input_data = runnable.invoke(input_data)\n",
        "    return input_data"
      ],
      "metadata": {
        "id": "rQgL2sfQG5Dc"
      },
      "execution_count": 29,
      "outputs": []
    },
    {
      "cell_type": "code",
      "source": [
        "class DummyStrOutputParser(Runnable):\n",
        "  def __init__(self):\n",
        "    pass\n",
        "\n",
        "  def invoke(self, input_data):\n",
        "    return input_data['response']"
      ],
      "metadata": {
        "id": "zpyUek_FKtVq"
      },
      "execution_count": 37,
      "outputs": []
    },
    {
      "cell_type": "code",
      "source": [
        "template = DummyPromptTemplate(\n",
        "    template='Answer the question: {question}',\n",
        "    input_variables=['question']\n",
        ")"
      ],
      "metadata": {
        "id": "UTL_sc7DJhiz"
      },
      "execution_count": 40,
      "outputs": []
    },
    {
      "cell_type": "code",
      "source": [
        "llm = DummyLLM()"
      ],
      "metadata": {
        "colab": {
          "base_uri": "https://localhost:8080/"
        },
        "id": "pm80A_O1BZkM",
        "outputId": "4753c9f8-e1d8-42f7-8040-38c673e5aeb9"
      },
      "execution_count": 100,
      "outputs": [
        {
          "output_type": "stream",
          "name": "stdout",
          "text": [
            "LLM created\n"
          ]
        }
      ]
    },
    {
      "cell_type": "code",
      "source": [
        "parser = DummyStrOutputParser()"
      ],
      "metadata": {
        "id": "jEBZllLbK--P"
      },
      "execution_count": 101,
      "outputs": []
    },
    {
      "cell_type": "code",
      "source": [
        "chain = RunnableConnector([template, llm, parser])"
      ],
      "metadata": {
        "id": "Tp-qqTF-JFNH"
      },
      "execution_count": 102,
      "outputs": []
    },
    {
      "cell_type": "code",
      "source": [
        "chain.invoke({'question': 'What is the capital of india?'})"
      ],
      "metadata": {
        "colab": {
          "base_uri": "https://localhost:8080/",
          "height": 35
        },
        "id": "mzdvWL92J2Pm",
        "outputId": "dc679abe-6d8b-4d3a-ec49-01ed8d849e99"
      },
      "execution_count": 103,
      "outputs": [
        {
          "output_type": "execute_result",
          "data": {
            "text/plain": [
              "'Mumbai is the financial capital of india'"
            ],
            "application/vnd.google.colaboratory.intrinsic+json": {
              "type": "string"
            }
          },
          "metadata": {},
          "execution_count": 103
        }
      ]
    },
    {
      "cell_type": "code",
      "source": [
        "template1 = DummyPromptTemplate(\n",
        "    template='Write a joke about {topic}',\n",
        "    input_variables=['topic']\n",
        ")"
      ],
      "metadata": {
        "id": "lYlR_KlsJ567"
      },
      "execution_count": 104,
      "outputs": []
    },
    {
      "cell_type": "code",
      "source": [
        "template2 = DummyPromptTemplate(\n",
        "    template='explain the following joke {response}',\n",
        "    input_variables=['response']\n",
        ")"
      ],
      "metadata": {
        "id": "Buu8xJkvLuYL"
      },
      "execution_count": 110,
      "outputs": []
    },
    {
      "cell_type": "code",
      "source": [
        "parser = DummyStrOutputParser()"
      ],
      "metadata": {
        "id": "tdrEY_zrLy_A"
      },
      "execution_count": 111,
      "outputs": []
    },
    {
      "cell_type": "code",
      "source": [
        "chain1 = RunnableConnector([template1, llm])"
      ],
      "metadata": {
        "id": "H84IasIXL1zr"
      },
      "execution_count": 112,
      "outputs": []
    },
    {
      "cell_type": "code",
      "source": [
        "chain2 = RunnableConnector([template2, llm, parser])"
      ],
      "metadata": {
        "id": "xXOLZ76LL5Os"
      },
      "execution_count": 113,
      "outputs": []
    },
    {
      "cell_type": "code",
      "source": [
        "final_chain = RunnableConnector([chain1, chain2])"
      ],
      "metadata": {
        "id": "JVFoR1c_L73D"
      },
      "execution_count": 114,
      "outputs": []
    },
    {
      "cell_type": "code",
      "source": [
        "final_chain.invoke({'topic': 'ml'})"
      ],
      "metadata": {
        "colab": {
          "base_uri": "https://localhost:8080/",
          "height": 35
        },
        "id": "4TcPKJEjMx_1",
        "outputId": "db9e6bc6-4d77-46da-a676-0eae392597c9"
      },
      "execution_count": 117,
      "outputs": [
        {
          "output_type": "execute_result",
          "data": {
            "text/plain": [
              "'ML stands for Machine Learning'"
            ],
            "application/vnd.google.colaboratory.intrinsic+json": {
              "type": "string"
            }
          },
          "metadata": {},
          "execution_count": 117
        }
      ]
    },
    {
      "cell_type": "code",
      "source": [],
      "metadata": {
        "id": "4oMifHR9MTYE"
      },
      "execution_count": null,
      "outputs": []
    }
  ]
}